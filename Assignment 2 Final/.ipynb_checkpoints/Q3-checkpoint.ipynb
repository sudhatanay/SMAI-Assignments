{
 "cells": [
  {
   "cell_type": "markdown",
   "id": "1bd3a4e9-5e71-4d5f-8582-c2141e186370",
   "metadata": {},
   "source": [
    "# SMAI Assignment - 2\n",
    "\n",
    "## Question - `3` : Multinomial Naïve Bayes\n",
    "\n",
    "| | |\n",
    "|- | -|\n",
    "| Course | Statistical Methods in AI |\n",
    "| Release Date | `16.02.2023` |\n",
    "| Due Date | `24.02.2023` |"
   ]
  },
  {
   "cell_type": "markdown",
   "id": "08fcb7b3-fc94-4ce9-b058-0b26a3b93f7a",
   "metadata": {},
   "source": [
    "This question will have you working and experimenting with the Multinomial Naïve Bayes classifier. Initially, you will transform the given data in csv file to count matrix, then calculate the priors. Use those priors to compute likelyhoods according to Multinomial Naive Bayes and then classify the test data. Please note that use of `sklearn` implementations is only for the final question of the assignment, for other doubts regarding libraries you can reach out to the TAs.\n",
    "\n",
    "The dataset is about `Spam SMS`. There is 1 attribute that is the `message`, and the class label which could be `spam` or `ham`. The data is present in `spam.csv`. It contains about 5-6000 samples.\n",
    "For your convinience the data is already pre-processed and loaded, but I suggest you to just take a look at the code for your own knowledge, and parts vectorization is left up to you which could be easily done with the help of the given example code."
   ]
  },
  {
   "cell_type": "code",
   "execution_count": 1,
   "id": "aa8a96d4-58f3-4360-b6ae-a02405ffdddb",
   "metadata": {},
   "outputs": [],
   "source": [
    "import pandas as pd\n",
    "import numpy as np\n",
    "import matplotlib.pyplot as plt"
   ]
  },
  {
   "cell_type": "markdown",
   "id": "630170e6-57f8-4dae-b644-ab275a3f53a2",
   "metadata": {
    "tags": []
   },
   "source": [
    "## Reading text-based data using pandas"
   ]
  },
  {
   "cell_type": "code",
   "execution_count": 2,
   "id": "2430d4f2-e3ed-4e09-9e50-a446889d58cf",
   "metadata": {},
   "outputs": [
    {
     "data": {
      "text/html": [
       "<div>\n",
       "<style scoped>\n",
       "    .dataframe tbody tr th:only-of-type {\n",
       "        vertical-align: middle;\n",
       "    }\n",
       "\n",
       "    .dataframe tbody tr th {\n",
       "        vertical-align: top;\n",
       "    }\n",
       "\n",
       "    .dataframe thead th {\n",
       "        text-align: right;\n",
       "    }\n",
       "</style>\n",
       "<table border=\"1\" class=\"dataframe\">\n",
       "  <thead>\n",
       "    <tr style=\"text-align: right;\">\n",
       "      <th></th>\n",
       "      <th>label</th>\n",
       "      <th>message</th>\n",
       "    </tr>\n",
       "  </thead>\n",
       "  <tbody>\n",
       "    <tr>\n",
       "      <th>0</th>\n",
       "      <td>ham</td>\n",
       "      <td>Go until jurong point, crazy.. Available only ...</td>\n",
       "    </tr>\n",
       "    <tr>\n",
       "      <th>1</th>\n",
       "      <td>ham</td>\n",
       "      <td>Ok lar... Joking wif u oni...</td>\n",
       "    </tr>\n",
       "    <tr>\n",
       "      <th>2</th>\n",
       "      <td>spam</td>\n",
       "      <td>Free entry in 2 a wkly comp to win FA Cup fina...</td>\n",
       "    </tr>\n",
       "    <tr>\n",
       "      <th>3</th>\n",
       "      <td>ham</td>\n",
       "      <td>U dun say so early hor... U c already then say...</td>\n",
       "    </tr>\n",
       "    <tr>\n",
       "      <th>4</th>\n",
       "      <td>ham</td>\n",
       "      <td>Nah I don't think he goes to usf, he lives aro...</td>\n",
       "    </tr>\n",
       "  </tbody>\n",
       "</table>\n",
       "</div>"
      ],
      "text/plain": [
       "  label                                            message\n",
       "0   ham  Go until jurong point, crazy.. Available only ...\n",
       "1   ham                      Ok lar... Joking wif u oni...\n",
       "2  spam  Free entry in 2 a wkly comp to win FA Cup fina...\n",
       "3   ham  U dun say so early hor... U c already then say...\n",
       "4   ham  Nah I don't think he goes to usf, he lives aro..."
      ]
     },
     "execution_count": 2,
     "metadata": {},
     "output_type": "execute_result"
    }
   ],
   "source": [
    "# read file into pandas using a relative path\n",
    "\n",
    "df = pd.read_csv(\"./spam.csv\", encoding='latin-1')\n",
    "df.dropna(how=\"any\", inplace=True, axis=1)\n",
    "df.columns = ['label', 'message']\n",
    "\n",
    "df.head()"
   ]
  },
  {
   "cell_type": "markdown",
   "id": "c5fbeec1-2b88-4af3-b8c6-906936938951",
   "metadata": {},
   "source": [
    "## Pre-processing\n",
    "\n",
    "- Our main issue with our data is that it is all in text format (strings). The classification algorithms that we usally use need some sort of numerical feature vector in order to perform the classification task. There are actually many methods to convert a corpus to a vector format. The simplest is the bag-of-words approach, where each unique word in a text will be represented by one number.\n",
    "\n",
    "- As a first step, let's write a function that will split a message into its individual words and return a list. We'll also remove very common words, ('the', 'a', etc..). To do this we will take advantage of the NLTK library. It's pretty much the standard library in Python for processing text and has a lot of useful features. We'll only use some of the basic ones here."
   ]
  },
  {
   "cell_type": "code",
   "execution_count": 3,
   "id": "d736a35c-e849-4029-bee7-42a31f7d0b11",
   "metadata": {},
   "outputs": [
    {
     "name": "stderr",
     "output_type": "stream",
     "text": [
      "[nltk_data] Downloading package stopwords to\n",
      "[nltk_data]     C:\\Users\\Tanay\\AppData\\Roaming\\nltk_data...\n",
      "[nltk_data]   Package stopwords is already up-to-date!\n"
     ]
    }
   ],
   "source": [
    "import string\n",
    "import nltk\n",
    "nltk.download('stopwords')\n",
    "\n",
    "from nltk.corpus import stopwords\n",
    "\n",
    "def text_process(mess):\n",
    "    \"\"\"\n",
    "    Takes in a string of text, then performs the following:\n",
    "    1. Remove all punctuation\n",
    "    2. Remove all stopwords\n",
    "    3. Returns a list of the cleaned text\n",
    "    \"\"\"\n",
    "    STOPWORDS = stopwords.words('english') + ['u', 'ü', 'ur', '4', '2', 'im', 'dont', 'doin', 'ure']\n",
    "    # Check characters to see if they are in punctuation\n",
    "    nopunc = [char for char in mess if char not in string.punctuation]\n",
    "\n",
    "    # Join the characters again to form the string.\n",
    "    nopunc = ''.join(nopunc)\n",
    "    \n",
    "    # Now just remove any stopwords\n",
    "    return ' '.join([word for word in nopunc.split() if word.lower() not in STOPWORDS])"
   ]
  },
  {
   "cell_type": "code",
   "execution_count": 4,
   "id": "ed807b40-7762-4968-b546-2f72817beed3",
   "metadata": {},
   "outputs": [
    {
     "data": {
      "text/html": [
       "<div>\n",
       "<style scoped>\n",
       "    .dataframe tbody tr th:only-of-type {\n",
       "        vertical-align: middle;\n",
       "    }\n",
       "\n",
       "    .dataframe tbody tr th {\n",
       "        vertical-align: top;\n",
       "    }\n",
       "\n",
       "    .dataframe thead th {\n",
       "        text-align: right;\n",
       "    }\n",
       "</style>\n",
       "<table border=\"1\" class=\"dataframe\">\n",
       "  <thead>\n",
       "    <tr style=\"text-align: right;\">\n",
       "      <th></th>\n",
       "      <th>label</th>\n",
       "      <th>message</th>\n",
       "    </tr>\n",
       "  </thead>\n",
       "  <tbody>\n",
       "    <tr>\n",
       "      <th>0</th>\n",
       "      <td>ham</td>\n",
       "      <td>Go jurong point crazy Available bugis n great ...</td>\n",
       "    </tr>\n",
       "    <tr>\n",
       "      <th>1</th>\n",
       "      <td>ham</td>\n",
       "      <td>Ok lar Joking wif oni</td>\n",
       "    </tr>\n",
       "    <tr>\n",
       "      <th>2</th>\n",
       "      <td>spam</td>\n",
       "      <td>Free entry wkly comp win FA Cup final tkts 21s...</td>\n",
       "    </tr>\n",
       "    <tr>\n",
       "      <th>3</th>\n",
       "      <td>ham</td>\n",
       "      <td>dun say early hor c already say</td>\n",
       "    </tr>\n",
       "    <tr>\n",
       "      <th>4</th>\n",
       "      <td>ham</td>\n",
       "      <td>Nah think goes usf lives around though</td>\n",
       "    </tr>\n",
       "  </tbody>\n",
       "</table>\n",
       "</div>"
      ],
      "text/plain": [
       "  label                                            message\n",
       "0   ham  Go jurong point crazy Available bugis n great ...\n",
       "1   ham                              Ok lar Joking wif oni\n",
       "2  spam  Free entry wkly comp win FA Cup final tkts 21s...\n",
       "3   ham                    dun say early hor c already say\n",
       "4   ham             Nah think goes usf lives around though"
      ]
     },
     "execution_count": 4,
     "metadata": {},
     "output_type": "execute_result"
    }
   ],
   "source": [
    "df['message'] = df.message.apply(text_process)\n",
    "df.head()"
   ]
  },
  {
   "cell_type": "code",
   "execution_count": 5,
   "id": "ad88d89f-1452-4e7a-9f9c-cb1094f890d1",
   "metadata": {},
   "outputs": [
    {
     "data": {
      "text/html": [
       "<div>\n",
       "<style scoped>\n",
       "    .dataframe tbody tr th:only-of-type {\n",
       "        vertical-align: middle;\n",
       "    }\n",
       "\n",
       "    .dataframe tbody tr th {\n",
       "        vertical-align: top;\n",
       "    }\n",
       "\n",
       "    .dataframe thead th {\n",
       "        text-align: right;\n",
       "    }\n",
       "</style>\n",
       "<table border=\"1\" class=\"dataframe\">\n",
       "  <thead>\n",
       "    <tr style=\"text-align: right;\">\n",
       "      <th></th>\n",
       "      <th>label</th>\n",
       "      <th>message</th>\n",
       "    </tr>\n",
       "  </thead>\n",
       "  <tbody>\n",
       "    <tr>\n",
       "      <th>0</th>\n",
       "      <td>0</td>\n",
       "      <td>Go jurong point crazy Available bugis n great ...</td>\n",
       "    </tr>\n",
       "    <tr>\n",
       "      <th>1</th>\n",
       "      <td>0</td>\n",
       "      <td>Ok lar Joking wif oni</td>\n",
       "    </tr>\n",
       "    <tr>\n",
       "      <th>2</th>\n",
       "      <td>1</td>\n",
       "      <td>Free entry wkly comp win FA Cup final tkts 21s...</td>\n",
       "    </tr>\n",
       "    <tr>\n",
       "      <th>3</th>\n",
       "      <td>0</td>\n",
       "      <td>dun say early hor c already say</td>\n",
       "    </tr>\n",
       "    <tr>\n",
       "      <th>4</th>\n",
       "      <td>0</td>\n",
       "      <td>Nah think goes usf lives around though</td>\n",
       "    </tr>\n",
       "  </tbody>\n",
       "</table>\n",
       "</div>"
      ],
      "text/plain": [
       "   label                                            message\n",
       "0      0  Go jurong point crazy Available bugis n great ...\n",
       "1      0                              Ok lar Joking wif oni\n",
       "2      1  Free entry wkly comp win FA Cup final tkts 21s...\n",
       "3      0                    dun say early hor c already say\n",
       "4      0             Nah think goes usf lives around though"
      ]
     },
     "execution_count": 5,
     "metadata": {},
     "output_type": "execute_result"
    }
   ],
   "source": [
    "df['label'] = df.label.map({'ham':0, 'spam':1})\n",
    "df.head()"
   ]
  },
  {
   "cell_type": "markdown",
   "id": "f22eddba-546a-4e97-b013-2906e90946b7",
   "metadata": {},
   "source": [
    "## Splitting the data"
   ]
  },
  {
   "cell_type": "code",
   "execution_count": 6,
   "id": "f859993a-2b29-4baf-a168-117151ed240b",
   "metadata": {},
   "outputs": [
    {
     "name": "stdout",
     "output_type": "stream",
     "text": [
      "X: (5572,)\n",
      "y: (5572,)\n",
      "\n",
      "X_train: (4179,)\n",
      "y_train: (4179,)\n",
      "\n",
      "X_test: (1393,)\n",
      "y_test: (1393,)\n",
      "\n"
     ]
    }
   ],
   "source": [
    "# split X and y into training and testing sets \n",
    "from sklearn.model_selection import train_test_split\n",
    "\n",
    "X = df.message\n",
    "y = df.label\n",
    "\n",
    "print(f'X: {X.shape}')\n",
    "print(f'y: {y.shape}')\n",
    "print()\n",
    "\n",
    "X_train, X_test, y_train, y_test = train_test_split(X, y, test_size=0.25, random_state=1)\n",
    "\n",
    "print(f'X_train: {X_train.shape}')\n",
    "print(f'y_train: {y_train.shape}')\n",
    "print()\n",
    "\n",
    "print(f'X_test: {X_test.shape}')\n",
    "print(f'y_test: {y_test.shape}')\n",
    "print()"
   ]
  },
  {
   "cell_type": "markdown",
   "id": "ba6deffc-0424-4cb6-85d2-eb74f97e8cdd",
   "metadata": {
    "tags": []
   },
   "source": [
    "## Helper code / Example code for Representing text as Numerical data using Sci-kit learn\n",
    "\n",
    "📌 From the scikit-learn documentation:\n",
    "- Text Analysis is a major application field for machine learning algorithms. However the raw data, a sequence of symbols cannot be fed directly to the algorithms themselves as most of them expect numerical feature vectors with a fixed size rather than the raw text documents with variable length.\n",
    "- We will use CountVectorizer to \"convert text into a matrix of token counts\":"
   ]
  },
  {
   "cell_type": "code",
   "execution_count": 7,
   "id": "1309604c-b9c1-4910-ab60-432f7e12824b",
   "metadata": {},
   "outputs": [],
   "source": [
    "# example text for model training (SMS messages)\n",
    "simple_train = ['call you tonight', 'Call me a cab', 'Please call me... PLEASE!']"
   ]
  },
  {
   "cell_type": "code",
   "execution_count": 8,
   "id": "0fde24ff-b303-4526-899d-fb902eabc1d8",
   "metadata": {},
   "outputs": [
    {
     "data": {
      "text/plain": [
       "array(['cab', 'call', 'me', 'please', 'tonight', 'you'], dtype=object)"
      ]
     },
     "execution_count": 8,
     "metadata": {},
     "output_type": "execute_result"
    }
   ],
   "source": [
    "# import and instantiate CountVectorizer (with the default parameters)\n",
    "from sklearn.feature_extraction.text import CountVectorizer\n",
    "\n",
    "vect = CountVectorizer()\n",
    "simple_train = vect.fit_transform(simple_train)\n",
    "\n",
    "vect.get_feature_names_out()"
   ]
  },
  {
   "cell_type": "code",
   "execution_count": 9,
   "id": "576f6e05-6e94-45a1-96cc-3e694cc971d6",
   "metadata": {},
   "outputs": [
    {
     "data": {
      "text/plain": [
       "array(['cab', 'call', 'me', 'please', 'tonight', 'you'], dtype=object)"
      ]
     },
     "execution_count": 9,
     "metadata": {},
     "output_type": "execute_result"
    }
   ],
   "source": [
    "vect.get_feature_names_out()"
   ]
  },
  {
   "cell_type": "code",
   "execution_count": 10,
   "id": "0aef831c-50f0-4723-a04a-27af774f0542",
   "metadata": {},
   "outputs": [
    {
     "data": {
      "text/plain": [
       "array([[0, 1, 0, 0, 1, 1],\n",
       "       [1, 1, 1, 0, 0, 0],\n",
       "       [0, 1, 1, 2, 0, 0]], dtype=int64)"
      ]
     },
     "execution_count": 10,
     "metadata": {},
     "output_type": "execute_result"
    }
   ],
   "source": [
    "# convert sparse matrix to a dense matrix\n",
    "simple_train.toarray()"
   ]
  },
  {
   "cell_type": "markdown",
   "id": "aa523614-ff0d-4f22-b8f2-4505e33a2460",
   "metadata": {},
   "source": [
    "In this scheme, features and samples are defined as follows:\n",
    "\n",
    "- Each individual token occurrence frequency (normalized or not) is treated as a feature.\n",
    "- The vector of all the token frequencies for a given document is considered a multivariate sample.\n",
    "\n",
    "A corpus of documents can thus be represented by a matrix with one row per document and one column per token (e.g. word) occurring in the corpus."
   ]
  },
  {
   "cell_type": "code",
   "execution_count": 11,
   "id": "5d0a1561-6e5c-495e-b056-fc9fe376121d",
   "metadata": {},
   "outputs": [
    {
     "data": {
      "text/html": [
       "<div>\n",
       "<style scoped>\n",
       "    .dataframe tbody tr th:only-of-type {\n",
       "        vertical-align: middle;\n",
       "    }\n",
       "\n",
       "    .dataframe tbody tr th {\n",
       "        vertical-align: top;\n",
       "    }\n",
       "\n",
       "    .dataframe thead th {\n",
       "        text-align: right;\n",
       "    }\n",
       "</style>\n",
       "<table border=\"1\" class=\"dataframe\">\n",
       "  <thead>\n",
       "    <tr style=\"text-align: right;\">\n",
       "      <th></th>\n",
       "      <th>cab</th>\n",
       "      <th>call</th>\n",
       "      <th>me</th>\n",
       "      <th>please</th>\n",
       "      <th>tonight</th>\n",
       "      <th>you</th>\n",
       "    </tr>\n",
       "  </thead>\n",
       "  <tbody>\n",
       "    <tr>\n",
       "      <th>0</th>\n",
       "      <td>0</td>\n",
       "      <td>1</td>\n",
       "      <td>0</td>\n",
       "      <td>0</td>\n",
       "      <td>1</td>\n",
       "      <td>1</td>\n",
       "    </tr>\n",
       "    <tr>\n",
       "      <th>1</th>\n",
       "      <td>1</td>\n",
       "      <td>1</td>\n",
       "      <td>1</td>\n",
       "      <td>0</td>\n",
       "      <td>0</td>\n",
       "      <td>0</td>\n",
       "    </tr>\n",
       "    <tr>\n",
       "      <th>2</th>\n",
       "      <td>0</td>\n",
       "      <td>1</td>\n",
       "      <td>1</td>\n",
       "      <td>2</td>\n",
       "      <td>0</td>\n",
       "      <td>0</td>\n",
       "    </tr>\n",
       "  </tbody>\n",
       "</table>\n",
       "</div>"
      ],
      "text/plain": [
       "   cab  call  me  please  tonight  you\n",
       "0    0     1   0       0        1    1\n",
       "1    1     1   1       0        0    0\n",
       "2    0     1   1       2        0    0"
      ]
     },
     "execution_count": 11,
     "metadata": {},
     "output_type": "execute_result"
    }
   ],
   "source": [
    "# examine the vocabulary and document-term matrix together\n",
    "pd.DataFrame(simple_train.toarray(), columns=vect.get_feature_names_out())"
   ]
  },
  {
   "cell_type": "markdown",
   "id": "02042133-9bad-4aa3-b0be-a53158e7102e",
   "metadata": {},
   "source": [
    "### Transform Testing data into a document-term matrix (using existing / training vocabulary)\n",
    "\n",
    "- You are supposed to use the training vocabolary to make the count matrix for test data"
   ]
  },
  {
   "cell_type": "code",
   "execution_count": 12,
   "id": "1a50c164-91ac-4861-993d-e14a2be7c6aa",
   "metadata": {},
   "outputs": [],
   "source": [
    "simple_test = [\"please don't call me\"]"
   ]
  },
  {
   "cell_type": "code",
   "execution_count": 13,
   "id": "30e0b5eb-d7ab-468a-86e2-89dcd0fa0184",
   "metadata": {},
   "outputs": [
    {
     "data": {
      "text/plain": [
       "array([[0, 1, 1, 1, 0, 0]], dtype=int64)"
      ]
     },
     "execution_count": 13,
     "metadata": {},
     "output_type": "execute_result"
    }
   ],
   "source": [
    "simple_test_dtm = vect.transform(simple_test)\n",
    "simple_test_dtm.toarray()"
   ]
  },
  {
   "cell_type": "code",
   "execution_count": 14,
   "id": "9df0574c-6088-4418-92b4-d6d69c9d9d41",
   "metadata": {},
   "outputs": [
    {
     "data": {
      "text/html": [
       "<div>\n",
       "<style scoped>\n",
       "    .dataframe tbody tr th:only-of-type {\n",
       "        vertical-align: middle;\n",
       "    }\n",
       "\n",
       "    .dataframe tbody tr th {\n",
       "        vertical-align: top;\n",
       "    }\n",
       "\n",
       "    .dataframe thead th {\n",
       "        text-align: right;\n",
       "    }\n",
       "</style>\n",
       "<table border=\"1\" class=\"dataframe\">\n",
       "  <thead>\n",
       "    <tr style=\"text-align: right;\">\n",
       "      <th></th>\n",
       "      <th>cab</th>\n",
       "      <th>call</th>\n",
       "      <th>me</th>\n",
       "      <th>please</th>\n",
       "      <th>tonight</th>\n",
       "      <th>you</th>\n",
       "    </tr>\n",
       "  </thead>\n",
       "  <tbody>\n",
       "    <tr>\n",
       "      <th>0</th>\n",
       "      <td>0</td>\n",
       "      <td>1</td>\n",
       "      <td>1</td>\n",
       "      <td>1</td>\n",
       "      <td>0</td>\n",
       "      <td>0</td>\n",
       "    </tr>\n",
       "  </tbody>\n",
       "</table>\n",
       "</div>"
      ],
      "text/plain": [
       "   cab  call  me  please  tonight  you\n",
       "0    0     1   1       1        0    0"
      ]
     },
     "execution_count": 14,
     "metadata": {},
     "output_type": "execute_result"
    }
   ],
   "source": [
    "# examine the vocabulary and document-term matrix together\n",
    "pd.DataFrame(simple_test_dtm.toarray(), columns=vect.get_feature_names_out())"
   ]
  },
  {
   "cell_type": "markdown",
   "id": "ec45268a-bc57-4a34-b496-b30751119403",
   "metadata": {},
   "source": [
    "## Multinomial Naive Bayes Implementation\n",
    "\n",
    "- Your task is to implement Mutlinomial Naive Bayes from scratch, you can use numpy to vectorize your code and matplotlib  to show your analysis.\n",
    "- Below some information has given from the documentation about Multinomial Naive Bayes, this will give you some idea about using *Smoothing Priors*.\n",
    "- There is a sub-question for experimenting with $\\alpha > 0$, you don't have to implement it separetely, try to incomporate it in same Model Class / Function."
   ]
  },
  {
   "cell_type": "markdown",
   "id": "d3c9e325-5e71-4810-83c9-a2e3b5a547b2",
   "metadata": {},
   "source": [
    "📌 From the scikit-learn documentation:\n",
    "\n",
    "- Multinomial Naive Bayes implements the naive Bayes algorithm for multinomially distributed data, and is one of the two classic naive Bayes variants used in text classification (where the data are typically represented as word vector counts, although tf-idf vectors are also known to work well in practice).\n",
    "\n",
    "- The distribution $\\theta_y = (\\theta_{y1}, \\theta_{y2}, \\dots, \\theta_{yn})$ is parametrized by vectors for each class $y$, where $n$ is the number of features (in text classification, the size of the vocabulary) and $\\theta_{yi}$ is the probability $P(x_i|y)$ of feature appearing in a sample belonging to class.\n",
    "\n",
    "- The parameters $\\theta_y$ is estimated by a smoothed version of maximum likelihood, i.e. relative frequency counting:\n",
    "\n",
    "$$\n",
    "\\hat{\\theta}_{yi} = \\frac{N_{yi} + \\alpha}{N_{y} + \\alpha n}\n",
    "$$\n",
    "\n",
    " where $N_{yi} = \\sum_{x \\in T}{x_i}$ is the number of times feature $i $ appears in a sample of class in the training set $T$, and $N_{y} = \\sum^{n}_{i=1}{N_{yi}}$ is the total count of all features for class $y$.\n",
    "\n",
    "- The smoothing priors $\\alpha \\gt 0$ accounts for features not present in the learning samples and **prevents zero probabilities** in further computations. Setting $\\alpha = 1$ is called Laplace smoothing, while $\\alpha \\lt 1$ is called Lidstone smoothing.\n"
   ]
  },
  {
   "cell_type": "code",
   "execution_count": 15,
   "id": "14862c11-1b3c-4314-a64e-f98a185ce394",
   "metadata": {},
   "outputs": [
    {
     "data": {
      "text/plain": [
       "'\\nYour code here\\n'"
      ]
     },
     "execution_count": 15,
     "metadata": {},
     "output_type": "execute_result"
    }
   ],
   "source": [
    "\"\"\"\n",
    "Your code here\n",
    "\"\"\"\n",
    "\n",
    "#calculate prior probability of spam and ham\n",
    "\n"
   ]
  },
  {
   "cell_type": "markdown",
   "id": "0dbcd1df-1c3d-477d-b0f6-c8c17868c797",
   "metadata": {},
   "source": [
    "## Vectorizing Training Sample\n",
    "\n",
    "- Use the Helper code above to vectorize for training samples\n",
    "- Don't overthink it, its very easy to do"
   ]
  },
  {
   "cell_type": "code",
   "execution_count": 16,
   "id": "c2561b73-fc1b-47aa-8ae9-6d1ba8ad3015",
   "metadata": {},
   "outputs": [
    {
     "name": "stdout",
     "output_type": "stream",
     "text": [
      "['008704050406' '0121' '01223585236' ... 'ûïharry' 'ûò' 'ûówell']\n"
     ]
    }
   ],
   "source": [
    "vect = CountVectorizer()\n",
    "\n",
    "traindata = vect.fit_transform(X_train)\n",
    "\n",
    "print(vect.get_feature_names_out())\n",
    "\n",
    "numfeatures = len(vect.get_feature_names_out())"
   ]
  },
  {
   "cell_type": "markdown",
   "id": "ec22e087-4e03-4428-8f47-4cb4f2ec1645",
   "metadata": {},
   "source": [
    "## Calculate Priors and Estimate Model's performance on Training Sample\n",
    "\n",
    "- Calculate priors based on Training Sample using your NB implementation\n",
    "- Evaluate your model's performance on Training Data ($\\alpha = 0$)"
   ]
  },
  {
   "cell_type": "code",
   "execution_count": 17,
   "id": "1aa85aed-f38c-4acc-9c76-339d5914118d",
   "metadata": {},
   "outputs": [
    {
     "name": "stdout",
     "output_type": "stream",
     "text": [
      "Probability of spam: 0.135678391959799\n",
      "Probability of ham: 0.864321608040201\n"
     ]
    }
   ],
   "source": [
    "\"\"\"\n",
    "Your code here\n",
    "\"\"\"\n",
    "\n",
    "spam_probability = y_train.sum()/y_train.shape[0]\n",
    "ham_probability = 1 - spam_probability\n",
    "\n",
    "print(f'Probability of spam: {spam_probability}')\n",
    "print(f'Probability of ham: {ham_probability}')\n",
    "\n"
   ]
  },
  {
   "cell_type": "code",
   "execution_count": 18,
   "id": "23244012",
   "metadata": {},
   "outputs": [
    {
     "name": "stdout",
     "output_type": "stream",
     "text": [
      "Spam count total: 8835.0\n",
      "Ham count total: 27362.0\n"
     ]
    }
   ],
   "source": [
    "spam_counts = np.zeros([1,numfeatures])\n",
    "ham_counts = np.zeros([1,numfeatures])\n",
    "\n",
    "spam_counts = spam_counts +  traindata[y_train == 1].sum(axis=0)\n",
    "ham_counts = ham_counts +  traindata[y_train == 0].sum(axis=0)\n",
    "\n",
    "spam_count_total = spam_counts.sum()\n",
    "ham_count_total = ham_counts.sum()\n",
    "\n",
    "print(f'Spam count total: {spam_count_total}')\n",
    "print(f'Ham count total: {ham_count_total}')\n",
    "\n",
    "# print(spam_counts)\n",
    "# print(ham_counts)"
   ]
  },
  {
   "cell_type": "markdown",
   "id": "d8a6ec92-2ba4-40bf-9b5d-01825338c034",
   "metadata": {},
   "source": [
    "## Vectorizing Test Sample\n",
    "\n",
    "- Use the Training Sample vocabulary to create word count matrix for test samples\n",
    "- This is also shown in the Helper code"
   ]
  },
  {
   "cell_type": "code",
   "execution_count": 19,
   "id": "a16cc470-b033-444f-a366-5b3213eba877",
   "metadata": {},
   "outputs": [],
   "source": [
    "\"\"\"\n",
    "Your code here\n",
    "\"\"\"\n",
    "\n",
    "testdata = vect.transform(X_test)\n",
    "# testdata.shape"
   ]
  },
  {
   "cell_type": "markdown",
   "id": "7c02b84a-3116-4260-846d-50e6849efe48",
   "metadata": {},
   "source": [
    "## Estimate Model's performance on Test Sample\n",
    "\n",
    "- Evaluate your model's performance on Test Sample, using the Training Priors ($\\alpha = 0$)"
   ]
  },
  {
   "cell_type": "code",
   "execution_count": 20,
   "id": "cb763cb8-5a31-4d7d-b538-b741c8cfaae8",
   "metadata": {},
   "outputs": [],
   "source": [
    "\"\"\"\n",
    "Your code here\n",
    "\"\"\"\n",
    "\n",
    "def model(data,alpha=0):\n",
    "    \n",
    "    predictions = []\n",
    "    for i in data.toarray():\n",
    "        spampredict = 1\n",
    "        hampredict = 1\n",
    "\n",
    "        count=0\n",
    "        for j in range(len(i)):\n",
    "            if i[j] > 0:\n",
    "                count += 1\n",
    "                spampredict = spampredict * (spam_counts[0,j]+alpha)\n",
    "                hampredict = hampredict * (ham_counts[0,j]+alpha)\n",
    "\n",
    "        spampredict = spampredict * spam_probability\n",
    "        hampredict = hampredict * ham_probability\n",
    "        spampredict = spampredict / (spam_count_total**count + alpha*numfeatures)\n",
    "        hampredict = hampredict / (ham_count_total**count + alpha*numfeatures)\n",
    "\n",
    "        predictions.append(1 if spampredict > hampredict else 0)\n",
    "    return predictions"
   ]
  },
  {
   "cell_type": "code",
   "execution_count": 21,
   "id": "2cd0d06a",
   "metadata": {},
   "outputs": [],
   "source": [
    "output = model(testdata,0)"
   ]
  },
  {
   "cell_type": "code",
   "execution_count": 22,
   "id": "d29e26f4",
   "metadata": {},
   "outputs": [
    {
     "name": "stdout",
     "output_type": "stream",
     "text": [
      "Accuracy: 0.9569274946159368 for alpha = 0\n"
     ]
    }
   ],
   "source": [
    "output = np.array(output)\n",
    "\n",
    "print(f'Accuracy: {np.mean(output == y_test)}', \"for alpha = 0\")"
   ]
  },
  {
   "cell_type": "markdown",
   "id": "b415868e-4b61-4a13-abb5-22124e5312bc",
   "metadata": {},
   "source": [
    "## Select Smoothing Priors\n",
    "\n",
    "- Refactor your code to incorporate smoothing priors, select $\\alpha = 0$ for the previous estimates / sub-questions\n",
    "- Compare the performance with different values of $\\alpha \\gt 0$ as smoothing priors to take care of zero probabilities\n",
    "- You can display a Plot or Table to show the comparison."
   ]
  },
  {
   "cell_type": "code",
   "execution_count": 23,
   "id": "a707cc0d-1f16-40a5-93ec-0366165b077c",
   "metadata": {},
   "outputs": [
    {
     "name": "stdout",
     "output_type": "stream",
     "text": [
      "Alpha      Accuracy\n",
      "0.0        0.9569\n",
      "0.1        0.9828\n",
      "0.2        0.9842\n",
      "0.3        0.9849\n",
      "0.4        0.9835\n",
      "0.5        0.9821\n",
      "0.6        0.9813\n",
      "0.7        0.9792\n",
      "0.8        0.9770\n",
      "0.9        0.9734\n",
      "1.0        0.9727\n",
      "1.1        0.9720\n",
      "1.2        0.9720\n",
      "1.3        0.9706\n",
      "1.4        0.9684\n",
      "1.5        0.9641\n",
      "1.6        0.9641\n",
      "1.7        0.9634\n",
      "1.8        0.9612\n",
      "1.9        0.9591\n"
     ]
    }
   ],
   "source": [
    "\"\"\"\n",
    "Your code here\n",
    "\"\"\"\n",
    "alphavals = np.arange(0,2,0.1)\n",
    "accuracies = []\n",
    "\n",
    "for i in alphavals:\n",
    "    output = model(testdata,i)\n",
    "    output = np.array(output)\n",
    "    # print(f'Alpha: {i} Accuracy: {np.mean(output == y_test)}')\n",
    "    accuracies.append(np.mean(output == y_test))\n",
    "\n",
    "#print accuracies corresponding to each alpha value\n",
    "\n",
    "\n",
    "print('Alpha      Accuracy')\n",
    "for i in range(len(alphavals)):\n",
    "    print('{:.1f}        {:.4f}'.format(alphavals[i],accuracies[i]))\n",
    "\n"
   ]
  },
  {
   "cell_type": "code",
   "execution_count": 24,
   "id": "7c8e2662",
   "metadata": {},
   "outputs": [
    {
     "data": {
      "image/png": "[encoded data removed]",
      "text/plain": [
       "<Figure size 640x480 with 1 Axes>"
      ]
     },
     "metadata": {},
     "output_type": "display_data"
    }
   ],
   "source": [
    "plt.plot(alphavals,accuracies)\n",
    "plt.xlabel('Alpha')\n",
    "plt.ylabel('Accuracy')\n",
    "plt.show()"
   ]
  },
  {
   "cell_type": "markdown",
   "id": "827e696e",
   "metadata": {},
   "source": [
    "`Alpha value of 0.3 gives the highest accuracy(0.9849)`"
   ]
  },
  {
   "cell_type": "markdown",
   "id": "d58051f8-67fb-4632-884b-23c719d4cae7",
   "metadata": {},
   "source": [
    "## Comparison with Sci-kit Learn Implementation\n",
    "\n",
    "- Use sci-kit learn's `sklearn.naive_bayes.MultinomialNB` model to compare your implementation's performance\n",
    "- (Optional) try other classifiers from `sklearn.naive_bayes` and see if you can make them work`"
   ]
  },
  {
   "cell_type": "code",
   "execution_count": 25,
   "id": "192a26af-2b0a-4165-9d36-b5ed774c11fb",
   "metadata": {},
   "outputs": [
    {
     "name": "stdout",
     "output_type": "stream",
     "text": [
      "Accuracy: 0.9827709978463748\n"
     ]
    }
   ],
   "source": [
    "\"\"\"\n",
    "Your code here\n",
    "\"\"\"\n",
    "\n",
    "from sklearn.naive_bayes import MultinomialNB\n",
    "\n",
    "# instantiate the model\n",
    "nb = MultinomialNB()\n",
    "nb.fit(traindata, y_train)\n",
    "\n",
    "nbpredictions = nb.predict(testdata)\n",
    "print(f'Accuracy: {np.mean(nbpredictions == y_test)}')"
   ]
  },
  {
   "cell_type": "markdown",
   "id": "141c1084",
   "metadata": {},
   "source": [
    "`Sklearns classifier gives 0.9827 as accuracy while coded model gives 0.9849 as accuracy with alpha value = 0.3`"
   ]
  },
  {
   "cell_type": "markdown",
   "id": "f583c92f",
   "metadata": {},
   "source": []
  }
 ],
 "metadata": {
  "kernelspec": {
   "display_name": "Python 3 (ipykernel)",
   "language": "python",
   "name": "python3"
  },
  "language_info": {
   "codemirror_mode": {
    "name": "ipython",
    "version": 3
   },
   "file_extension": ".py",
   "mimetype": "text/x-python",
   "name": "python",
   "nbconvert_exporter": "python",
   "pygments_lexer": "ipython3",
   "version": "3.9.5"
  },
  "vscode": {
   "interpreter": {
    "hash": "3098405084198ea69b52aea97922152442f0d6965df57a4de6bc059ece1aa277"
   }
  }
 },
 "nbformat": 4,
 "nbformat_minor": 5
}
